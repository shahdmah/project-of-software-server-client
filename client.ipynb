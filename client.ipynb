{
 "cells": [
  {
   "cell_type": "code",
   "execution_count": 2,
   "id": "f5b8adc0-5123-42ac-809a-0dfc56375639",
   "metadata": {},
   "outputs": [
    {
     "name": "stdout",
     "output_type": "stream",
     "text": [
      "b'Thank you for connecting'\n"
     ]
    }
   ],
   "source": [
    "from socket import * # Import socket module\n",
    "s = socket(AF_INET,SOCK_STREAM) # Create a socket object\n",
    "host ='127.0.0.1'\n",
    "port = 40674 # Define the port on which you want to connect\n",
    "s.connect((host, port)) # connect to the server on local computer\n",
    "print(s.recv(1024)) # receive data from the server\n",
    "s.close()"
   ]
  },
  {
   "cell_type": "code",
   "execution_count": null,
   "id": "f848ea71-7115-43b9-bed2-e5842e0fa0c4",
   "metadata": {},
   "outputs": [],
   "source": []
  }
 ],
 "metadata": {
  "kernelspec": {
   "display_name": "Python 3 (ipykernel)",
   "language": "python",
   "name": "python3"
  },
  "language_info": {
   "codemirror_mode": {
    "name": "ipython",
    "version": 3
   },
   "file_extension": ".py",
   "mimetype": "text/x-python",
   "name": "python",
   "nbconvert_exporter": "python",
   "pygments_lexer": "ipython3",
   "version": "3.11.7"
  }
 },
 "nbformat": 4,
 "nbformat_minor": 5
}
