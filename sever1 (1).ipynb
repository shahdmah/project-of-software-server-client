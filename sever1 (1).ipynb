{
 "cells": [
  {
   "cell_type": "code",
   "execution_count": null,
   "id": "055aaf7d-e815-4aa2-943a-90a2cd4463e5",
   "metadata": {},
   "outputs": [
    {
     "name": "stdout",
     "output_type": "stream",
     "text": [
      "Socket successfully created\n",
      "Socket binded to 12345\n",
      "socket is listening\n"
     ]
    }
   ],
   "source": [
    "from socket import socket, AF_INET, SOCK_STREAM # first of all import the socket library\n",
    "s = socket(AF_INET,SOCK_STREAM) # next create a socket object\n",
    "print (\"Socket successfully created\") #socket successfully created\n",
    "# reserve a port on your computer in our case it is 40674 but it can be anything\n",
    "import socket\n",
    "\n",
    "host = '127.0.0.1'\n",
    "port = 12345  # Try using a different port number\n",
    "\n",
    "s = socket.socket(socket.AF_INET, socket.SOCK_STREAM)\n",
    "s.bind((host, port))\n",
    "print(\"Socket binded to\", port)\n",
    "s.listen(5)\n",
    "\n",
    "print (\"socket is listening\") #socket is listening\n",
    "# a forever loop until we interrupt it or an error occurs\n",
    "while True:\n",
    "    c, addr = s.accept() # Establish connection with client.\n",
    "    print ('Get connection from', addr ) #Get connection from (‘127.0.0.1‘, 55182)\n",
    "    c.send(b'Thank you for connecting') # send a message to the client.\n",
    "    c.close() "
   ]
  },
  {
   "cell_type": "code",
   "execution_count": null,
   "id": "cdeb66ec-3269-47fc-a63d-ccc44197d28e",
   "metadata": {},
   "outputs": [],
   "source": []
  }
 ],
 "metadata": {
  "kernelspec": {
   "display_name": "Python 3 (ipykernel)",
   "language": "python",
   "name": "python3"
  },
  "language_info": {
   "codemirror_mode": {
    "name": "ipython",
    "version": 3
   },
   "file_extension": ".py",
   "mimetype": "text/x-python",
   "name": "python",
   "nbconvert_exporter": "python",
   "pygments_lexer": "ipython3",
   "version": "3.11.7"
  }
 },
 "nbformat": 4,
 "nbformat_minor": 5
}
